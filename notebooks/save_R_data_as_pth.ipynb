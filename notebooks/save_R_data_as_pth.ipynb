{
 "cells": [
  {
   "cell_type": "code",
   "execution_count": 19,
   "metadata": {},
   "outputs": [
    {
     "name": "stdout",
     "output_type": "stream",
     "text": [
      "Saved simulated data for VIBO in simulated_m2pl_data.pth\n"
     ]
    }
   ],
   "source": [
    "import torch\n",
    "import numpy as np\n",
    "import pandas as pd\n",
    "\n",
    "# Load CSV files\n",
    "responses = pd.read_csv(\"../data/Rmirt_2pl_simulation_3000person_60item_3ability.csv\").values  # Shape: (3000, 60)\n",
    "discrimination = pd.read_csv(\"../data/Rmirt_2pl_simulation_3000person_60item_3ability_disc.csv\").values  # Shape: (60, 3)\n",
    "difficulty = pd.read_csv(\"../data/Rmirt_2pl_simulation_3000person_60item_3ability_diff.csv\").values  # Shape: (60,)\n",
    "theta = pd.read_csv(\"../data/Rmirt_2pl_simulation_3000person_60item_3ability_ability.csv\").values  # Shape: (3000, 3)\n",
    "\n",
    "# Reshape responses to (3000, 60, 1)\n",
    "responses = responses.reshape(3000, 60, 1)\n",
    "item_feat = np.hstack((discrimination, difficulty)).shape\n",
    "\n",
    "# Convert to PyTorch tensors\n",
    "data_dict = {\n",
    "    \"response\": torch.tensor(responses, dtype=torch.float32),\n",
    "    \"item_feat\": torch.tensor(item_feat, dtype=torch.float32),\n",
    "    \"ability\": torch.tensor(theta, dtype=torch.float32)\n",
    "}\n",
    "\n",
    "# Save as .pth file for VIBO\n",
    "torch.save(data_dict, \"../data/Rmirt_2pl_simulation_3000person_60item_3ability.pth\")\n",
    "\n",
    "print(\"Saved simulated data for VIBO in simulated_m2pl_data.pth\")"
   ]
  }
 ],
 "metadata": {
  "kernelspec": {
   "display_name": "vibo",
   "language": "python",
   "name": "python3"
  },
  "language_info": {
   "codemirror_mode": {
    "name": "ipython",
    "version": 3
   },
   "file_extension": ".py",
   "mimetype": "text/x-python",
   "name": "python",
   "nbconvert_exporter": "python",
   "pygments_lexer": "ipython3",
   "version": "3.12.6"
  }
 },
 "nbformat": 4,
 "nbformat_minor": 2
}
